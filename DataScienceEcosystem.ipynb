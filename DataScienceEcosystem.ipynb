{
 "cells": [
  {
   "cell_type": "markdown",
   "id": "74eeec91",
   "metadata": {},
   "source": [
    "# Data Science Tools and Ecosystem"
   ]
  },
  {
   "cell_type": "markdown",
   "id": "daea4275",
   "metadata": {},
   "source": [
    "In this notebook, Data Science Tools and Ecosystem are summarized."
   ]
  },
  {
   "cell_type": "markdown",
   "id": "dd9bfd89-0a14-4d74-8d61-e078dee6e19a",
   "metadata": {},
   "source": [
    "**Objectives:**\n",
    "- List popular languages for Data Science\n",
    "- List popular libraries used by Data Acientists\n",
    "- Write code to convert minutes to hour"
   ]
  },
  {
   "cell_type": "markdown",
   "id": "dcc5dc9b",
   "metadata": {},
   "source": [
    "Some of the popular languages that Data Scientists use are:\n",
    "1. Python\n",
    "2. R\n",
    "3. Java"
   ]
  },
  {
   "cell_type": "markdown",
   "id": "f36e8891",
   "metadata": {},
   "source": [
    "Some of the commonly used libraries used by Data Scientists include:\n",
    "1. Pandas\n",
    "2. TensorFlow\n",
    "3. SciPy"
   ]
  },
  {
   "cell_type": "markdown",
   "id": "0a863ea6",
   "metadata": {},
   "source": [
    "|Data Science Tools|\n",
    "|------------------|\n",
    "|R studio|\n",
    "|Spyder|\n",
    "|Jupyter Lab|"
   ]
  },
  {
   "cell_type": "markdown",
   "id": "8526aaa9",
   "metadata": {},
   "source": [
    "### Below are a few examples of evaluating arithmetic expressions in Python\n",
    "\n",
    "|Symbol|Description|\n",
    "|------|-----------|\n",
    "|+|It is used for addition|\n",
    "|-|It is used for subtraction|\n",
    "|*|It is used for multiplication|\n",
    "|/|It is used for division|"
   ]
  },
  {
   "cell_type": "code",
   "execution_count": 1,
   "id": "dd54b566",
   "metadata": {},
   "outputs": [
    {
     "data": {
      "text/plain": [
       "17"
      ]
     },
     "execution_count": 1,
     "metadata": {},
     "output_type": "execute_result"
    }
   ],
   "source": [
    "# This a simple arithmetic expression to mutiply then add integers\n",
    "(3*4)+5"
   ]
  },
  {
   "cell_type": "code",
   "execution_count": 3,
   "id": "d8b12276-7527-455e-b188-15a05e422a18",
   "metadata": {},
   "outputs": [
    {
     "name": "stdout",
     "output_type": "stream",
     "text": [
      "3.3333333333333335\n"
     ]
    }
   ],
   "source": [
    "#This will convert 200 minutes to hours by diving by 60\n",
    "min = 200\n",
    "hrs= min/60\n",
    "print(hrs)"
   ]
  },
  {
   "cell_type": "markdown",
   "id": "df3c43cc-4c09-4cb7-9a67-15c27a29fa5e",
   "metadata": {},
   "source": [
    "## Author\n",
    "Aashutosh Upadhyay"
   ]
  }
 ],
 "metadata": {
  "kernelspec": {
   "display_name": "Python 3 (ipykernel)",
   "language": "python",
   "name": "python3"
  },
  "language_info": {
   "codemirror_mode": {
    "name": "ipython",
    "version": 3
   },
   "file_extension": ".py",
   "mimetype": "text/x-python",
   "name": "python",
   "nbconvert_exporter": "python",
   "pygments_lexer": "ipython3",
   "version": "3.8.17"
  }
 },
 "nbformat": 4,
 "nbformat_minor": 5
}
